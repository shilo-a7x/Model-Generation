{
 "cells": [
  {
   "cell_type": "code",
   "execution_count": 1,
   "metadata": {},
   "outputs": [],
   "source": [
    "import pickle\n",
    "import io\n",
    "import torch\n",
    "from sklearn.datasets import load_iris\n",
    "from sklearn.model_selection import train_test_split\n",
    "from sklearn.metrics import confusion_matrix\n",
    "import numpy as np\n",
    "from model import Iris2LayerClassifier\n",
    "\n",
    "NUM_OF_MODELS = 500\n",
    "\n",
    "device = \"cuda\" if torch.cuda.is_available() else \"cpu\""
   ]
  },
  {
   "cell_type": "code",
   "execution_count": 2,
   "metadata": {},
   "outputs": [],
   "source": [
    "iris = load_iris()\n",
    "X, y = iris.data, iris.target\n",
    "\n",
    "X_train, X_test, y_train, y_test = train_test_split(\n",
    "    X, y, random_state=42, test_size=0.33\n",
    ")\n",
    "X_train, X_test, y_train, y_test = (\n",
    "    torch.tensor(X_train, device=device, dtype=torch.float32),\n",
    "    torch.tensor(X_test, device=device, dtype=torch.float32),\n",
    "    torch.tensor(y_train, device=device, dtype=torch.long),\n",
    "    torch.tensor(y_test, device=device, dtype=torch.long),\n",
    ")"
   ]
  },
  {
   "cell_type": "code",
   "execution_count": 3,
   "metadata": {},
   "outputs": [],
   "source": [
    "class CPU_Unpickler(pickle.Unpickler):\n",
    "    def find_class(self, module, name):\n",
    "        if module == \"torch.storage\" and name == \"_load_from_bytes\":\n",
    "            return lambda b: torch.load(io.BytesIO(b), map_location=\"cpu\")\n",
    "        else:\n",
    "            return super().find_class(module, name)\n",
    "\n",
    "\n",
    "with open(\"2_layer_real_models.pickle\", \"rb\") as f:\n",
    "    real_models = CPU_Unpickler(f).load()\n",
    "with open(\"2_layer_generated_models.pickle\", \"rb\") as f:\n",
    "    generated_models = CPU_Unpickler(f).load()"
   ]
  },
  {
   "cell_type": "code",
   "execution_count": 4,
   "metadata": {},
   "outputs": [
    {
     "name": "stdout",
     "output_type": "stream",
     "text": [
      "Diag(R): 0.9564\n",
      "Diag(G): 0.6993\n"
     ]
    }
   ],
   "source": [
    "diagonal_real = []\n",
    "diagonal_generated = []\n",
    "\n",
    "for state_dict in real_models:\n",
    "    model = Iris2LayerClassifier().to(device)\n",
    "    model.load_state_dict(state_dict)\n",
    "    model.eval()\n",
    "    with torch.inference_mode():\n",
    "        y_pred = model(X_test)\n",
    "        _, predicted_labels = torch.max(y_pred, 1)\n",
    "    cm = confusion_matrix(y_test.cpu().numpy(), predicted_labels.cpu().numpy())\n",
    "    diagonal = np.sum(np.diag(cm))\n",
    "    diagonal_real.append(diagonal / len(y_test))\n",
    "\n",
    "\n",
    "for state_dict in generated_models:\n",
    "    model = Iris2LayerClassifier().to(device)\n",
    "    model.load_state_dict(state_dict)\n",
    "    model.eval()\n",
    "    with torch.inference_mode():\n",
    "        y_pred = model(X_test)\n",
    "        _, predicted_labels = torch.max(y_pred, 1)\n",
    "    cm = confusion_matrix(y_test.cpu().numpy(), predicted_labels.cpu().numpy())\n",
    "    diagonal = np.sum(np.diag(cm))\n",
    "    diagonal_generated.append(diagonal / len(y_test))\n",
    "\n",
    "print(\"Diag(R): {:.4f}\".format(np.mean(diagonal_real)))\n",
    "print(\"Diag(G): {:.4f}\".format(np.mean(diagonal_generated)))"
   ]
  }
 ],
 "metadata": {
  "kernelspec": {
   "display_name": "Python 3",
   "language": "python",
   "name": "python3"
  },
  "language_info": {
   "codemirror_mode": {
    "name": "ipython",
    "version": 3
   },
   "file_extension": ".py",
   "mimetype": "text/x-python",
   "name": "python",
   "nbconvert_exporter": "python",
   "pygments_lexer": "ipython3",
   "version": "3.11.6"
  }
 },
 "nbformat": 4,
 "nbformat_minor": 2
}
