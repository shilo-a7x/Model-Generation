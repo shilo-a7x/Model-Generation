{
 "cells": [
  {
   "cell_type": "code",
   "execution_count": 39,
   "metadata": {},
   "outputs": [],
   "source": [
    "from sklearn.datasets import load_iris\n",
    "from sklearn.model_selection import train_test_split\n",
    "from model import Iris2LayerClassifier\n",
    "import torch\n",
    "\n",
    "device = \"cuda\" if torch.cuda.is_available() else \"cpu\"\n",
    "# device = \"cpu\"\n",
    "\n",
    "iris = load_iris()\n",
    "X, y = iris.data, iris.target\n",
    "\n",
    "X_train, X_test, y_train, y_test = train_test_split(\n",
    "    X, y, random_state=42, test_size=0.33\n",
    ")\n",
    "X_train, X_test, y_train, y_test = (\n",
    "    torch.tensor(X_train, device=device, dtype=torch.float32),\n",
    "    torch.tensor(X_test, device=device, dtype=torch.float32),\n",
    "    torch.tensor(y_train, device=device, dtype=torch.long),\n",
    "    torch.tensor(y_test, device=device, dtype=torch.long),\n",
    ")"
   ]
  },
  {
   "cell_type": "code",
   "execution_count": 40,
   "metadata": {},
   "outputs": [],
   "source": [
    "import torch.optim as optim\n",
    "from sklearn.metrics import accuracy_score\n",
    "from collections import namedtuple\n",
    "from torch.utils.data import DataLoader\n",
    "import torch.nn as nn\n",
    "\n",
    "\n",
    "def train_model(train_loader: DataLoader):\n",
    "    model = Iris2LayerClassifier().to(device=device)\n",
    "    criterion = nn.CrossEntropyLoss()\n",
    "    optimizer = optim.Adam(model.parameters(), lr=0.005)\n",
    "    model.train()\n",
    "    num_epochs = 200\n",
    "    for i in range(num_epochs):\n",
    "        for inputs, targets in train_loader:\n",
    "            outputs = model(inputs)\n",
    "            loss = criterion(outputs, targets)\n",
    "            optimizer.zero_grad()\n",
    "            loss.backward()\n",
    "            optimizer.step()\n",
    "        # if i % 10 == 0:\n",
    "        #     print(f\"Loss = {loss:4f}\")\n",
    "    # model.eval()\n",
    "    # with torch.inference_mode():\n",
    "    #     y_pred = model(X_test)\n",
    "    #     _, predicted_labels = torch.max(y_pred,1)\n",
    "    #     accuracy = accuracy_score(y_test.cpu(), predicted_labels.cpu())\n",
    "    #     print(f\"Accuracy = {accuracy}\")\n",
    "    return model.state_dict()"
   ]
  },
  {
   "cell_type": "code",
   "execution_count": 41,
   "metadata": {},
   "outputs": [
    {
     "name": "stdout",
     "output_type": "stream",
     "text": [
      "trained 50 models\n",
      "trained 100 models\n",
      "trained 150 models\n",
      "trained 200 models\n",
      "trained 250 models\n",
      "trained 300 models\n",
      "trained 350 models\n",
      "trained 400 models\n",
      "trained 450 models\n",
      "trained 500 models\n"
     ]
    }
   ],
   "source": [
    "from torch.utils.data import TensorDataset, DataLoader\n",
    "\n",
    "NUM_OF_MODELS = 500\n",
    "\n",
    "train_dataset = TensorDataset(X_train, y_train)\n",
    "train_loader = DataLoader(train_dataset, batch_size=16, shuffle=True)\n",
    "\n",
    "real_models = []\n",
    "for i in range(NUM_OF_MODELS):\n",
    "    model_info = train_model(train_loader)\n",
    "    real_models.append(model_info)\n",
    "    if (i + 1) % 50 == 0:\n",
    "        print(\"trained {} models\".format(i + 1))"
   ]
  },
  {
   "cell_type": "code",
   "execution_count": 42,
   "metadata": {},
   "outputs": [
    {
     "name": "stdout",
     "output_type": "stream",
     "text": [
      "Saved trained models\n"
     ]
    }
   ],
   "source": [
    "import pickle\n",
    "edit_pickle = True\n",
    "\n",
    "if edit_pickle == True:\n",
    "    # Save the list to a file\n",
    "    with open('2_layer_real_models.pickle', 'wb') as f:\n",
    "        pickle.dump(real_models, f)\n",
    "        print(\"Saved trained models\")"
   ]
  },
  {
   "cell_type": "code",
   "execution_count": 43,
   "metadata": {},
   "outputs": [
    {
     "name": "stdout",
     "output_type": "stream",
     "text": [
      "Accuracy = 0.98, model number = 464\n"
     ]
    }
   ],
   "source": [
    "import random\n",
    "\n",
    "r = random.randint(0, 499)\n",
    "model_test = Iris2LayerClassifier().to(device)\n",
    "model_test.load_state_dict(real_models[r])\n",
    "model_test.eval()\n",
    "with torch.inference_mode():\n",
    "    y_pred = model_test(X_test)\n",
    "    _, predicted_labels = torch.max(y_pred, 1)\n",
    "    accuracy = accuracy_score(y_test.cpu(), predicted_labels.cpu())\n",
    "    print(f\"Accuracy = {accuracy}, model number = {r}\")"
   ]
  }
 ],
 "metadata": {
  "kernelspec": {
   "display_name": "Python 3",
   "language": "python",
   "name": "python3"
  },
  "language_info": {
   "codemirror_mode": {
    "name": "ipython",
    "version": 3
   },
   "file_extension": ".py",
   "mimetype": "text/x-python",
   "name": "python",
   "nbconvert_exporter": "python",
   "pygments_lexer": "ipython3",
   "version": "3.11.6"
  }
 },
 "nbformat": 4,
 "nbformat_minor": 2
}
