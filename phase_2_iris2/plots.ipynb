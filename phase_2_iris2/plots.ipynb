{
 "cells": [
  {
   "cell_type": "code",
   "execution_count": 1,
   "metadata": {},
   "outputs": [],
   "source": [
    "import pickle\n",
    "import io\n",
    "import torch\n",
    "from sklearn.datasets import load_iris\n",
    "from sklearn.model_selection import train_test_split\n",
    "from sklearn.metrics import confusion_matrix\n",
    "from sklearn.metrics import accuracy_score\n",
    "import numpy as np\n",
    "from model import Iris2LayerClassifier\n",
    "\n",
    "NUM_OF_MODELS = 500\n",
    "\n",
    "device = \"cuda\" if torch.cuda.is_available() else \"cpu\""
   ]
  },
  {
   "cell_type": "code",
   "execution_count": 2,
   "metadata": {},
   "outputs": [],
   "source": [
    "iris = load_iris()\n",
    "X, y = iris.data, iris.target\n",
    "\n",
    "X_train, X_test, y_train, y_test = train_test_split(\n",
    "    X, y, random_state=42, test_size=0.33\n",
    ")\n",
    "X_train, X_test, y_train, y_test = (\n",
    "    torch.tensor(X_train, device=device, dtype=torch.float32),\n",
    "    torch.tensor(X_test, device=device, dtype=torch.float32),\n",
    "    torch.tensor(y_train, device=device, dtype=torch.long),\n",
    "    torch.tensor(y_test, device=device, dtype=torch.long),\n",
    ")"
   ]
  },
  {
   "cell_type": "code",
   "execution_count": 3,
   "metadata": {},
   "outputs": [],
   "source": [
    "class CPU_Unpickler(pickle.Unpickler):\n",
    "    def find_class(self, module, name):\n",
    "        if module == \"torch.storage\" and name == \"_load_from_bytes\":\n",
    "            return lambda b: torch.load(io.BytesIO(b), map_location=\"cpu\")\n",
    "        else:\n",
    "            return super().find_class(module, name)\n",
    "\n",
    "\n",
    "with open(\"2_layer_real_models.pickle\", \"rb\") as f:\n",
    "    real_models = CPU_Unpickler(f).load()\n",
    "with open(\"2_layer_generated_models.pickle\", \"rb\") as f:\n",
    "    generated_models = CPU_Unpickler(f).load()"
   ]
  },
  {
   "cell_type": "code",
   "execution_count": 9,
   "metadata": {},
   "outputs": [
    {
     "name": "stdout",
     "output_type": "stream",
     "text": [
      "Acc(R): 95.64 ± 09.96\n",
      "Acc(G): 83.44 ± 11.23\n"
     ]
    }
   ],
   "source": [
    "def evaluate_models(state_dicts, X_test, y_test):\n",
    "    accuracies = []\n",
    "    for state_dict in state_dicts:\n",
    "        model = Iris2LayerClassifier().to(device)\n",
    "        model.load_state_dict(state_dict)\n",
    "        model.eval()\n",
    "        with torch.inference_mode():\n",
    "            y_pred = model(X_test)\n",
    "            _, predicted_labels = torch.max(y_pred, 1)\n",
    "            accuracy = accuracy_score(\n",
    "                y_test.cpu().numpy(), predicted_labels.cpu().numpy()\n",
    "            )\n",
    "            accuracies.append(accuracy)\n",
    "    return np.array(accuracies)\n",
    "\n",
    "\n",
    "accuracy_real = evaluate_models(real_models, X_test, y_test)\n",
    "accuracy_generated = evaluate_models(generated_models, X_test, y_test)\n",
    "\n",
    "accuracy_real *= 100\n",
    "accuracy_generated *= 100\n",
    "\n",
    "print(\n",
    "    \"Acc(R): {:0>5.2f} ± {:0>5.2f}\".format(\n",
    "        np.mean(accuracy_real), np.std(accuracy_real)\n",
    "    )\n",
    ")\n",
    "print(\n",
    "    \"Acc(G): {:0>5.2f} ± {:0>5.2f}\".format(\n",
    "        np.mean(accuracy_generated), np.std(accuracy_generated)\n",
    "    )\n",
    ")"
   ]
  }
 ],
 "metadata": {
  "kernelspec": {
   "display_name": "Python 3",
   "language": "python",
   "name": "python3"
  },
  "language_info": {
   "codemirror_mode": {
    "name": "ipython",
    "version": 3
   },
   "file_extension": ".py",
   "mimetype": "text/x-python",
   "name": "python",
   "nbconvert_exporter": "python",
   "pygments_lexer": "ipython3",
   "version": "3.11.6"
  }
 },
 "nbformat": 4,
 "nbformat_minor": 2
}
